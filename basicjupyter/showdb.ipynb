{
 "cells": [
  {
   "cell_type": "code",
   "execution_count": 1,
   "metadata": {},
   "outputs": [
    {
     "name": "stdout",
     "output_type": "stream",
     "text": [
      "(('advancedb',), ('basicdb',), ('basicwpsite',), ('basicwpsitedb',), ('basicwpsites',), ('bidevent_db',), ('carchecker',), ('classicmodels',), ('combindapp',), ('combindappsdb',), ('companydb',), ('ecommerce',), ('ecommercedb',), ('getprettymcdb',), ('hkc_v1',), ('information_schema',), ('inventory',), ('inventorydb',), ('inventorydbtest',), ('itgecoth_db',), ('javabasicdb',), ('javacrud',), ('javadb',), ('javadbdemo',), ('ministockdb',), ('ministockdb_old',), ('mypythondb',), ('mypythondbs',), ('mysql',), ('newwpsitedb',), ('ng7_crud',), ('nodecrud',), ('peoplecapdb',), ('performance_schema',), ('phpadvancedb',), ('phpbasicdb',), ('phpbasicdbs',), ('phpmyadmin',), ('projectdata',), ('pythondatabase',), ('pythondb',), ('reactstockdb',), ('register',), ('restapidb',), ('roongmedias',), ('safetradedb',), ('scgpeoplecapdb',), ('scgstockdb',), ('simpleapidb',), ('springbootdb',), ('springdb',), ('stockappdb',), ('stockappdbs',), ('stockdb',), ('stockdbs',), ('stockrestdb',), ('test',), ('thaismartjob',), ('wpsitedb',))\n"
     ]
    }
   ],
   "source": [
    "import pymysql\n",
    "con = pymysql.connect(host=\"localhost\",user=\"root\",password=\"1234\",db=\"\")\n",
    "cs = con.cursor()\n",
    "cs.execute(\"show databases\")\n",
    "sv = cs.fetchall()\n",
    "print (sv)\n",
    "con.close()\n",
    "cs.close()"
   ]
  }
 ],
 "metadata": {
  "kernelspec": {
   "display_name": "Python 3",
   "language": "python",
   "name": "python3"
  },
  "language_info": {
   "codemirror_mode": {
    "name": "ipython",
    "version": 3
   },
   "file_extension": ".py",
   "mimetype": "text/x-python",
   "name": "python",
   "nbconvert_exporter": "python",
   "pygments_lexer": "ipython3",
   "version": "3.8.1"
  }
 },
 "nbformat": 4,
 "nbformat_minor": 4
}
