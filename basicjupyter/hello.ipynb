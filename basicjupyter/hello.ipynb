{
 "cells": [
  {
   "cell_type": "code",
   "execution_count": 1,
   "metadata": {},
   "outputs": [
    {
     "name": "stdout",
     "output_type": "stream",
     "text": [
      "Hello Python\n",
      "สวัสดีไพทอน\n"
     ]
    }
   ],
   "source": [
    "print('Hello Python')\n",
    "print('สวัสดีไพทอน')"
   ]
  },
  {
   "cell_type": "code",
   "execution_count": 2,
   "metadata": {},
   "outputs": [
    {
     "name": "stdout",
     "output_type": "stream",
     "text": [
      "Samit Koyom 40\n"
     ]
    }
   ],
   "source": [
    "fname = 'Samit'\n",
    "lname = 'Koyom'\n",
    "age = 40\n",
    "print(fname,lname,age)"
   ]
  },
  {
   "cell_type": "markdown",
   "metadata": {},
   "source": [
    "# คำอธิบายการใช้ไพทอน"
   ]
  },
  {
   "cell_type": "markdown",
   "metadata": {},
   "source": [
    "ทดสอบ markdown"
   ]
  },
  {
   "cell_type": "raw",
   "metadata": {},
   "source": [
    "ทดสอบ Raw NBConvert\n",
    "<h1>Hello</h1>\n",
    "print('this is raw')"
   ]
  }
 ],
 "metadata": {
  "kernelspec": {
   "display_name": "Python 3",
   "language": "python",
   "name": "python3"
  },
  "language_info": {
   "codemirror_mode": {
    "name": "ipython",
    "version": 3
   },
   "file_extension": ".py",
   "mimetype": "text/x-python",
   "name": "python",
   "nbconvert_exporter": "python",
   "pygments_lexer": "ipython3",
   "version": "3.8.1"
  }
 },
 "nbformat": 4,
 "nbformat_minor": 4
}
