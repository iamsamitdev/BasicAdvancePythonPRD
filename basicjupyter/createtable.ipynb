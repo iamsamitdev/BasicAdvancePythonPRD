{
 "cells": [
  {
   "cell_type": "code",
   "execution_count": 1,
   "metadata": {},
   "outputs": [
    {
     "name": "stdout",
     "output_type": "stream",
     "text": [
      "สร้างตาราง students, teachers, subjects และ registers เรียบร้อยแล้ว !!!\n"
     ]
    }
   ],
   "source": [
    "import pymysql\n",
    "try: # ตรวจจับคำสั่งที่คาดว่าจะเกิดข้อผิดพลาด\n",
    "    con = pymysql.connect(host=\"localhost\", user=\"root\", passwd=\"1234\", db=\"register\")\n",
    "    cs = con.cursor()\n",
    "    # ประมวลผลคำสั่ง sql สร้างตาราง students\n",
    "    cs.execute(\"\"\"CREATE TABLE students (student_id INT(5) NOT NULL, \n",
    "                f_name CHAR(30) COLLATE utf8_bin, \n",
    "                l_name CHAR(30) COLLATE utf8_bin,\n",
    "                e_mail VARCHAR(30) COLLATE utf8_bin,\n",
    "                tel VARCHAR(10) COLLATE utf8_bin, \n",
    "                PRIMARY KEY(student_id))\"\"\")\n",
    "    # ส่วนประมวลผลคำสั่ง sql สร้างตาราง teachers\n",
    "    cs.execute(\"\"\"CREATE TABLE teachers (teacher_id INT(3) NOT NULL, \n",
    "                f_name CHAR(30) COLLATE utf8_bin, \n",
    "                l_name CHAR(30) COLLATE utf8_bin,\n",
    "                e_mail VARCHAR(30) COLLATE utf8_bin,\n",
    "                tel VARCHAR(10) COLLATE utf8_bin, \n",
    "                PRIMARY KEY(teacher_id))\"\"\")\n",
    "     # ส่วนประมวลผลคำสั่ง sql สร้างตาราง subjects\n",
    "    cs.execute(\"\"\"CREATE TABLE subjects (subject_id INT(3) NOT NULL, \n",
    "                subject_name CHAR(50) COLLATE utf8_bin, \n",
    "                unit INT(1),\n",
    "                teacher_id INT(3), \n",
    "                PRIMARY KEY(subject_id))\"\"\")\n",
    "     # ส่วนประมวลผลคำสั่ง sql สร้างตาราง registers\n",
    "    cs.execute(\"\"\"CREATE TABLE registers (student_id INT(5) NOT NULL, \n",
    "                subject_id INT(3) NOT NULL,\n",
    "                semester INT(1) NOT NULL,\n",
    "                register_date DATE, \n",
    "                PRIMARY KEY(student_id, subject_id, semester))\"\"\")\n",
    "except pymysql.err.OperationalError: \n",
    "    # แจ้งเตือนข้อผิดพลาดเมื่อไม่สามารถเชื่อมต่อกับฐานข้อมูลได้\n",
    "    print(\"ไม่สามารถติดต่อฐานข้อมูลได้ !!!\")\n",
    "except pymysql.err.ProgrammingError:\n",
    "    # แจ้งเตือนข้อผิดพลาดเมื่อเขียนคำสั่ง SQL ไม่ถูกต้อง\n",
    "    print(\"คำสั่ง SQL ไม่ถูกต้อง !!!\")\n",
    "else:\n",
    "    # แสดงผลเมื่อไม่มีข้อผิดพลาดเกิดขึ้น\n",
    "    print (\"สร้างตาราง students, teachers, subjects และ registers เรียบร้อยแล้ว !!!\")\n",
    "    con.close() # ยกเลิกการเชื่อมต่อฐานข้อมูลด้วยเมธอด close()\n",
    "    cs.close() # ยกเลิกคำขอเข้าไปจัดการกับฐานข้อมูลผ่านออบเจ็ค cursor()"
   ]
  }
 ],
 "metadata": {
  "kernelspec": {
   "display_name": "Python 3",
   "language": "python",
   "name": "python3"
  },
  "language_info": {
   "codemirror_mode": {
    "name": "ipython",
    "version": 3
   },
   "file_extension": ".py",
   "mimetype": "text/x-python",
   "name": "python",
   "nbconvert_exporter": "python",
   "pygments_lexer": "ipython3",
   "version": "3.8.1"
  }
 },
 "nbformat": 4,
 "nbformat_minor": 4
}
