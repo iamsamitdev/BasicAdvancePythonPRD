{
 "cells": [
  {
   "cell_type": "code",
   "execution_count": null,
   "metadata": {},
   "outputs": [],
   "source": [
    "import pymysql\n",
    "try: # ตรวจจับคำสั่งที่คาดว่าจะเกิดข้อผิดพลาด\n",
    "    con = pymysql.connect(host=\"localhost\", user=\"root\", passwd=\"1234\", db=\"register\", charset=\"utf8\")\n",
    "    cs = con.cursor()\n",
    "   # ส่วนประมวลผลคำสั่ง sql เพิ่มข้อมูลลงในตาราง students (1ชุดสำหรับนักศึกษา 1 คน)\n",
    "    cs.execute(\"\"\"INSERT INTO students(student_id, f_name, l_name, e_mail, tel)\n",
    "                VALUES(10010,\"นายกานต์\",\"ยินดีสุข\",\"kan@gmail.com\",\"0873648979\")\"\"\")\n",
    "\n",
    "except pymysql.err.OperationalError: # แจ้งเตือนข้อผิดพลาดเมื่อไม่สามารถเชื่อมต่อกับฐานข้อมูลได้\n",
    "    print(\"ไม่สามารถติดต่อฐานข้อมูลได้ !!!\")\n",
    "except pymysql.err.ProgrammingError: # แจ้งเตือนข้อผิดพลาดเมื่อเขียนคำสั่ง SQL ไม่ถูกต้อง\n",
    "    print(\"คำสั่งเพิ่มข้อมูลผิดพลาด !!!\")\n",
    "    con.rollback()\n",
    "else:\n",
    "    con.commit() # เมธอด commit() ยืนยันการเพิ่มข้อมูลลงในตาราง students\n",
    "    print(\"บันทึกข้อมูลเรียบร้อยแล้ว !!!\") # แสดงผลเมื่อไม่มีข้อผิดพลาดเกิดขึ้น\n",
    "    con.close() # ยกเลิกการเชื่อมต่อฐานข้อมูลด้วยเมธอด close()\n",
    "    cs.close() # ยกเลิกคำขอเข้าไปจัดการกับฐานข้อมูลผ่านออบเจ็ค cursor() ด้วยเมธอด close()"
   ]
  }
 ],
 "metadata": {
  "kernelspec": {
   "display_name": "Python 3",
   "language": "python",
   "name": "python3"
  },
  "language_info": {
   "codemirror_mode": {
    "name": "ipython",
    "version": 3
   },
   "file_extension": ".py",
   "mimetype": "text/x-python",
   "name": "python",
   "nbconvert_exporter": "python",
   "pygments_lexer": "ipython3",
   "version": "3.8.1"
  }
 },
 "nbformat": 4,
 "nbformat_minor": 4
}
