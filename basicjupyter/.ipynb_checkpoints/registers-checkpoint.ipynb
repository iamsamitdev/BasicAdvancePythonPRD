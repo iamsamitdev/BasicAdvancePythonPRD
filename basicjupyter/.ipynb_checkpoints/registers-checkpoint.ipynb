{
 "cells": [
  {
   "cell_type": "code",
   "execution_count": null,
   "metadata": {},
   "outputs": [],
   "source": [
    "import pymysql\n",
    "\n",
    "try:\n",
    "    con = pymysql.connect(host=\"localhost\", user=\"root\", passwd=\"1234\",db=\"register\", charset=\"utf8\")\n",
    "    cs = con.cursor()\n",
    "    # ส่วนประมวลผลคำสั่ง sql เพิ่มข้อมูลลงในตาราง registers (1 ชุดสำหรับลงทะเบียน 1 รายวิชา)\n",
    "    cs.execute(\"\"\"INSERT INTO registers(student_id, subject_id, semester, register_date)\n",
    "                VALUES(10001, 101, 1, 20160710)\"\"\")\n",
    "\n",
    "except pymysql.err.OperationalError:\n",
    "    print (\"ไม่สามารถติดต่อฐานข้อมูลได้ !!!\")\n",
    "except pymysql.err.ProgrammingError:\n",
    "    print (\"คำสั่งเพิ่มข้อมูลผิดพลาด !!!\")\n",
    "    con.rollback()\n",
    "else:\n",
    "    con.commit()\n",
    "    print (\"บันทึกข้อมูลเรียบร้อยแล้ว !!!\")\n",
    "    con.close()\n",
    "    cs.close()"
   ]
  }
 ],
 "metadata": {
  "kernelspec": {
   "display_name": "Python 3",
   "language": "python",
   "name": "python3"
  },
  "language_info": {
   "codemirror_mode": {
    "name": "ipython",
    "version": 3
   },
   "file_extension": ".py",
   "mimetype": "text/x-python",
   "name": "python",
   "nbconvert_exporter": "python",
   "pygments_lexer": "ipython3",
   "version": "3.8.1"
  }
 },
 "nbformat": 4,
 "nbformat_minor": 4
}
