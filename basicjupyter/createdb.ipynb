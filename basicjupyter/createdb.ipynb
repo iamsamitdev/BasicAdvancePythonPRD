{
 "cells": [
  {
   "cell_type": "code",
   "execution_count": 1,
   "metadata": {},
   "outputs": [
    {
     "name": "stdout",
     "output_type": "stream",
     "text": [
      "สร้างฐานข้อมูลเรียบร้อยแล้ว !!!\n"
     ]
    }
   ],
   "source": [
    "import pymysql\n",
    "try: # ตรวจจับคำสั่งที่คาดว่าจะเกิดข้อผิดพลาด\n",
    "    # สร้างการเชื่อมต่อฐานข้อมูล\n",
    "    con = pymysql.connect(host=\"localhost\", user=\"root\", passwd=\"1234\")\n",
    "    cs = con.cursor() # ขอเข้าไปจัดการฐานข้อมูลผ่านออบเจ็ค cursor()\n",
    "    # ใช้เมธอด execute() ประมวลผลคำสั่ง SQL การสร้างฐานข้อมูล register\n",
    "    cs.execute(\"CREATE DATABASE register\")\n",
    "except pymysql.err.OperationalError:\n",
    "    # แจ้งเตือนข้อผิดพลาดเมื่อไม่สามารถเชื่อมต่อกับฐานข้อมูลได้\n",
    "    print (\"ไม่สามารถติดต่อฐานข้อมูลได้ !!!\")\n",
    "except pymysql.err.ProgrammingError:\n",
    "    # แจ้งเตือนข้อผิดพลาดเมื่อคำสั่ง SQL ไม่ถูกต้อง\n",
    "    print (\"คำสั่ง SQL ไม่ถูกต้อง !!!\")\n",
    "else:\n",
    "    print (\"สร้างฐานข้อมูลเรียบร้อยแล้ว !!!\") # แสดงผลเมื่อสร้างฐานข้อมูลสำเร็จ\n",
    "    con.close() # ยกเลิกการเชื่อมต่อฐานข้อมูลด้วยเมธอด close()\n",
    "    cs.close() # ยกเลิกคำขอเข้าไปจัดการกับฐานข้อมูลผ่านออบเจ็ค cursor()"
   ]
  }
 ],
 "metadata": {
  "kernelspec": {
   "display_name": "Python 3",
   "language": "python",
   "name": "python3"
  },
  "language_info": {
   "codemirror_mode": {
    "name": "ipython",
    "version": 3
   },
   "file_extension": ".py",
   "mimetype": "text/x-python",
   "name": "python",
   "nbconvert_exporter": "python",
   "pygments_lexer": "ipython3",
   "version": "3.8.1"
  }
 },
 "nbformat": 4,
 "nbformat_minor": 4
}
